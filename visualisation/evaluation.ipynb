{
 "cells": [
  {
   "cell_type": "code",
   "execution_count": null,
   "metadata": {},
   "outputs": [],
   "source": [
    "import matplotlib.pyplot as plt\n",
    "import json\n",
    "import numpy as np\n",
    "\n",
    "\n",
    "results = {}\n",
    "# Read json file\n",
    "with open('../results/training/20220908-11:54.json') as json_file:\n",
    "    results = json.load(json_file)\n",
    "    results = json.loads(results)"
   ]
  },
  {
   "cell_type": "code",
   "execution_count": null,
   "metadata": {},
   "outputs": [],
   "source": [
    "\n",
    "resolution = 8\n",
    "size = 1.0\n",
    "scale = 0.01\n",
    "series_length = 1\n",
    "\n",
    "metric = \"val_accuracy\"\n",
    "\n",
    "values = np.array([results[str(resolution)][str(size)][str(scale)][str(series_length)][0][metric]])\n",
    "for i in range(1, len(results[str(resolution)][str(size)][str(scale)][str(series_length)])):\n",
    "    values = np.concatenate((values, [results[str(resolution)][str(size)][str(scale)][str(series_length)][i][metric]]), 0)\n",
    "\n",
    "median = np.median(values, axis=0)\n",
    "min = np.min(values, axis=0)\n",
    "max = np.max(values, axis=0)\n",
    "\n",
    "plt.plot(range(1, len(median)+1), median, color=\"blue\")\n",
    "plt.fill_between(range(1, len(median)+1), min, max, color=\"blue\", alpha=0.3)\n",
    "plt.legend([\"Median\", \"Min/Max deviation\"], loc=\"lower right\", fontsize=14)\n",
    "plt.show()\n"
   ]
  },
  {
   "cell_type": "code",
   "execution_count": null,
   "metadata": {},
   "outputs": [],
   "source": [
    "resolution = 8\n",
    "size = 1.0\n",
    "scale = 0.01\n",
    "series_length = 1\n",
    "\n",
    "metric = \"val_accuracy\"\n",
    "\n",
    "maxs_medians = []\n",
    "maxs_mins = []\n",
    "maxs_maxs = []\n",
    "\n",
    "keys = list(results[str(resolution)][str(size)].keys())\n",
    "for key in keys:\n",
    "    values = np.array([results[str(resolution)][str(size)][key][str(series_length)][0][metric]])\n",
    "    for i in range(1, len(results[\"8\"][\"1.0\"][\"0.1\"][\"1\"])):\n",
    "        values = np.concatenate((values, [results[str(resolution)][str(size)][str(scale)][str(series_length)][i][metric]]), 0)\n",
    "\n",
    "    maxs = np.max(values, axis=1)\n",
    "\n",
    "    maxs_medians.append(np.median(maxs))\n",
    "    maxs_mins.append(np.min(maxs))\n",
    "    maxs_maxs.append(np.max(maxs))\n",
    "\n",
    "\n",
    "plt.plot(range(0, len(maxs_medians)), maxs_medians[::-1], color=\"blue\")\n",
    "plt.fill_between(range(0, len(maxs_medians)), maxs_mins[::-1], maxs_maxs[::-1], color=\"blue\", alpha=0.3)\n",
    "\n",
    "plt.ylim([0.9, 1.0])\n",
    "plt.xticks(range(len(keys)), keys[::-1])\n",
    "plt.legend([\"Median\", \"Min/Max deviation\"], loc=\"lower right\", fontsize=14)\n",
    "plt.show()\n"
   ]
  },
  {
   "cell_type": "code",
   "execution_count": null,
   "metadata": {},
   "outputs": [],
   "source": []
  }
 ],
 "metadata": {
  "kernelspec": {
   "display_name": "Python 3.8.10 ('venv': venv)",
   "language": "python",
   "name": "python3"
  },
  "language_info": {
   "codemirror_mode": {
    "name": "ipython",
    "version": 3
   },
   "file_extension": ".py",
   "mimetype": "text/x-python",
   "name": "python",
   "nbconvert_exporter": "python",
   "pygments_lexer": "ipython3",
   "version": "3.8.10"
  },
  "orig_nbformat": 4,
  "vscode": {
   "interpreter": {
    "hash": "87511076809f87fbe2c1f261b7ffdbb152d8861a183fb93611264849d652d3fc"
   }
  }
 },
 "nbformat": 4,
 "nbformat_minor": 2
}
