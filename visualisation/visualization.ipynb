{
 "cells": [
  {
   "cell_type": "markdown",
   "metadata": {},
   "source": [
    "# Visualize MAWI background traffic distribution"
   ]
  },
  {
   "cell_type": "markdown",
   "metadata": {},
   "source": [
    "## Traffic intensity development over time (packets arriving per time interval)"
   ]
  },
  {
   "cell_type": "code",
   "execution_count": null,
   "metadata": {},
   "outputs": [],
   "source": [
    "import csv_trace_statistics as visualizer\n",
    "import pandas as pd\n",
    "\n",
    "mawi_packet_counts = []\n",
    "\n",
    "for i in range(6):\n",
    "    file = \"../data/datasets/mawi/mawi_background-%d.csv\" % i\n",
    "    csv = pd.read_csv(file)\n",
    "    mawi_packet_counts.extend(visualizer.packetCountPerInterval(csv, 0.0, 150.0, 30.0))"
   ]
  },
  {
   "cell_type": "code",
   "execution_count": null,
   "metadata": {},
   "outputs": [],
   "source": [
    "import matplotlib.pyplot as plt\n",
    "\n",
    "plt.figure(facecolor='white')\n",
    "plt.ylabel(\"Packets [million per 30s]\",  size=14)\n",
    "plt.xlabel(\"Time [minutes]\", size=14)\n",
    "plt.title(\"MAWI Traffic Intensity Development\", size=16)\n",
    "plt.yticks(range(0, int(0.8*(10**7)), 10**6), range(0, 8, 1))\n",
    "plt.ylim([0, 7* (10**6)])\n",
    "plt.xticks(range(0, 35, 6), range(0, 16, 3), size=12)\n",
    "plt.plot(range(len(mawi_packet_counts)), mawi_packet_counts)\n",
    "plt.savefig(\"../results/mawi_intensity_over_time.png\", bbox_inches=\"tight\")\n",
    "plt.show()"
   ]
  },
  {
   "cell_type": "code",
   "execution_count": 7,
   "metadata": {},
   "outputs": [],
   "source": [
    "import csv_trace_statistics as visualizer\n",
    "import pandas as pd\n",
    "\n",
    "caida_packet_counts = [0]*8\n",
    "\n",
    "for i in range(11, 14):\n",
    "    file = \"../data/datasets/ddos-2007/ddos-%d.csv\" % i\n",
    "    csv = pd.read_csv(file)\n",
    "    caida_packet_counts.extend(visualizer.packetCountPerInterval(csv, 0.0, 150.0, 30.0))\n",
    "\n",
    "caida_packet_counts.extend([0]*7)"
   ]
  },
  {
   "cell_type": "code",
   "execution_count": 8,
   "metadata": {},
   "outputs": [
    {
     "data": {
      "image/png": "[encoded data removed]",
      "text/plain": [
       "<Figure size 432x288 with 1 Axes>"
      ]
     },
     "metadata": {},
     "output_type": "display_data"
    }
   ],
   "source": [
    "import matplotlib.pyplot as plt\n",
    "\n",
    "plt.figure(facecolor='white')\n",
    "plt.ylabel(\"Packets [million per 30s]\",  size=14)\n",
    "plt.xlabel(\"Time [minutes]\", size=14)\n",
    "plt.title(\"CAIDA Traffic Intensity Development\", size=16)\n",
    "plt.yticks(range(0, int(0.8*(10**7)), 10**6), range(0, 8, 1))\n",
    "plt.ylim([0, 7* (10**6)])\n",
    "plt.xticks(range(0, 35, 6), range(0, 16, 3), size=12)\n",
    "plt.plot(range(len(caida_packet_counts)), caida_packet_counts)\n",
    "plt.savefig(\"../results/caida_intensity_over_time.png\", bbox_inches=\"tight\")\n",
    "plt.show()"
   ]
  },
  {
   "cell_type": "markdown",
   "metadata": {},
   "source": [
    "## IP source and destination distribution of background traffic"
   ]
  },
  {
   "cell_type": "code",
   "execution_count": null,
   "metadata": {},
   "outputs": [],
   "source": [
    "import csv_trace_statistics as visualizer\n",
    "import pandas as pd\n",
    "file = \"../data/datasets/mawi/mawi_background.csv\"\n",
    "csv = pd.read_csv(file).dropna()\n",
    "mavi_source_distribution = visualizer.histogramOfSourceSubnetFrequency(csv, 2**7)\n",
    "mavi_destination_distribution = visualizer.histogramOfTargetSubnetFrequency(csv, 2**7)"
   ]
  },
  {
   "cell_type": "code",
   "execution_count": null,
   "metadata": {},
   "outputs": [],
   "source": [
    "import matplotlib.pyplot as plt\n",
    "plt.title(\"Source IP Distribution\")\n",
    "plt.xlabel(\"/7 subnets\")\n",
    "plt.ylabel(\"Packet Count from Subnet\")\n",
    "plt.xlim([0, 2**7])\n",
    "plt.yticks([])\n",
    "plt.plot(range(len(mavi_source_distribution)), mavi_source_distribution)\n",
    "plt.legend([\"MAWI\"])\n",
    "plt.show()"
   ]
  },
  {
   "cell_type": "code",
   "execution_count": null,
   "metadata": {},
   "outputs": [],
   "source": [
    "plt.title(\"Destination IP Distribution\")\n",
    "plt.xlabel(\"/7 subnets\")\n",
    "plt.ylabel(\"Packet Count to Subnet\")\n",
    "plt.xlim([0, 2**7])\n",
    "plt.yticks([])\n",
    "plt.plot(range(len(mavi_destination_distribution)), mavi_destination_distribution)\n",
    "plt.legend([\"MAWI\"])\n",
    "plt.show()"
   ]
  },
  {
   "cell_type": "code",
   "execution_count": null,
   "metadata": {},
   "outputs": [],
   "source": []
  }
 ],
 "metadata": {
  "kernelspec": {
   "display_name": "Python 3.8.10 ('venv': venv)",
   "language": "python",
   "name": "python3"
  },
  "language_info": {
   "codemirror_mode": {
    "name": "ipython",
    "version": 3
   },
   "file_extension": ".py",
   "mimetype": "text/x-python",
   "name": "python",
   "nbconvert_exporter": "python",
   "pygments_lexer": "ipython3",
   "version": "3.8.10"
  },
  "orig_nbformat": 4,
  "vscode": {
   "interpreter": {
    "hash": "87511076809f87fbe2c1f261b7ffdbb152d8861a183fb93611264849d652d3fc"
   }
  }
 },
 "nbformat": 4,
 "nbformat_minor": 2
}
